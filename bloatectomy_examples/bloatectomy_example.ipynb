{
 "cells": [
  {
   "cell_type": "code",
   "execution_count": 1,
   "metadata": {},
   "outputs": [],
   "source": [
    "from bloatectomy import bloatectomy"
   ]
  },
  {
   "cell_type": "markdown",
   "metadata": {},
   "source": [
    "# 1. Example using a string as input"
   ]
  },
  {
   "cell_type": "code",
   "execution_count": 2,
   "metadata": {},
   "outputs": [],
   "source": [
    "text = '''Assessment and Plan\n",
    "61 yo male Hep C cirrhosis and HCC presents with probable lower GIB and\n",
    "renal failure of unclear duration.\n",
    "Abd pain:\n",
    "-other labs: PT / PTT / INR:16.6//                         1.5, CK / CKMB /\n",
    "\n",
    "Troponin-T:4390/40/0.21, ALT / AST:258/575, Alk Phos / T Bili:232/5.9,\n",
    "ICU Care\n",
    "-other labs: PT / PTT / INR:16.6//                         1.5, CK / CKMB /\n",
    "   Communication:                                              Comments:\n",
    "icu Care\n",
    "Assessment and Plan \n",
    "Chief Complaint:\n",
    "61 yo male Hep C cirrhosis and HCC presents with probable lower GIB and\n",
    "renal failure of unclear duration.\n",
    "Abd pain:\n",
    "'''"
   ]
  },
  {
   "cell_type": "code",
   "execution_count": 3,
   "metadata": {},
   "outputs": [
    {
     "name": "stdout",
     "output_type": "stream",
     "text": [
      "highlighting duplications. Output file = ./output/sample_string.html\n"
     ]
    }
   ],
   "source": [
    "bloatectomy(text, style='highlight', display=False, output='html', filename='./output/sample_string', output_numbered_tokens=True, output_original_tokens=True);\n"
   ]
  },
  {
   "cell_type": "code",
   "execution_count": 4,
   "metadata": {},
   "outputs": [
    {
     "name": "stdout",
     "output_type": "stream",
     "text": [
      "highlighting duplications. Output file = sample_string.html\n",
      "Assessment and Plan<br> 61 yo male Hep C cirrhosis and HCC presents with probable lower GIB and renal failure of unclear duration.<br> Abd pain:<br> -other labs: PT / PTT / INR:16.6//                         1.5, CK / CKMB /<br> Troponin-T:4390/40/0.21, ALT / AST:258/575, Alk Phos / T Bili:232/5.9,<br> ICU Care<br> <mark>-other labs: PT / PTT / INR:16.6//                         1.5, CK / CKMB /</mark><br> Communication:                                              Comments: icu Care<br> <mark>Assessment and Plan</mark><br> Chief Complaint:<br> <mark>61 yo male Hep C cirrhosis and HCC presents with probable lower GIB and renal failure of unclear duration.</mark><br> <mark>Abd pain:</mark>\n"
     ]
    }
   ],
   "source": [
    "bloatectomy(text, style='highlight', display=True, output='html', filename='sample_string', output_numbered_tokens=True, output_original_tokens=True);\n"
   ]
  },
  {
   "cell_type": "markdown",
   "metadata": {},
   "source": [
    "# 2. Example using a txt file as input"
   ]
  },
  {
   "cell_type": "code",
   "execution_count": 5,
   "metadata": {},
   "outputs": [
    {
     "name": "stdout",
     "output_type": "stream",
     "text": [
      "highlighting duplications. Output file = ./output/sample_txt_highlight_output.html\n"
     ]
    }
   ],
   "source": [
    "bloatectomy('./input/sample_text.txt', style='highlight', display=False, filename='./output/sample_txt_highlight_output', output='html', output_numbered_tokens=True, output_original_tokens=True);\n"
   ]
  },
  {
   "cell_type": "markdown",
   "metadata": {},
   "source": [
    "# 3. Example using an rtf file as input"
   ]
  },
  {
   "cell_type": "code",
   "execution_count": 6,
   "metadata": {},
   "outputs": [
    {
     "name": "stdout",
     "output_type": "stream",
     "text": [
      "removing duplications. Output file = ./output/sample_rtf_remov_output.html\n"
     ]
    }
   ],
   "source": [
    "bloatectomy('./input/sample_text.rtf', style='remov', display=False, filename='./output/sample_rtf_remov_output', output='html', output_numbered_tokens=True, output_original_tokens=True);\n"
   ]
  },
  {
   "cell_type": "markdown",
   "metadata": {},
   "source": [
    "# 4. Example using a word document as input and output"
   ]
  },
  {
   "cell_type": "code",
   "execution_count": 7,
   "metadata": {},
   "outputs": [
    {
     "name": "stdout",
     "output_type": "stream",
     "text": [
      "bolding duplications. Output file = ./output/sample_docx_output.docx\n"
     ]
    }
   ],
   "source": [
    "bloatectomy('./input/sample_text.docx', style='bold', display=False, filename='./output/sample_docx_output', output='docx');\n"
   ]
  },
  {
   "cell_type": "code",
   "execution_count": null,
   "metadata": {},
   "outputs": [],
   "source": []
  }
 ],
 "metadata": {
  "kernelspec": {
   "display_name": "Python 3",
   "language": "python",
   "name": "python3"
  },
  "language_info": {
   "codemirror_mode": {
    "name": "ipython",
    "version": 3
   },
   "file_extension": ".py",
   "mimetype": "text/x-python",
   "name": "python",
   "nbconvert_exporter": "python",
   "pygments_lexer": "ipython3",
   "version": "3.7.3"
  }
 },
 "nbformat": 4,
 "nbformat_minor": 2
}
